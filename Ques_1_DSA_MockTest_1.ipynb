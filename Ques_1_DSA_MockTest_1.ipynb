{
 "cells": [
  {
   "cell_type": "markdown",
   "id": "3ef7bdb2-4d1e-4a39-9318-fe07d8ee7c33",
   "metadata": {},
   "source": [
    "#### Q. 1."
   ]
  },
  {
   "cell_type": "code",
   "execution_count": 11,
   "id": "a3316386-593e-4745-8f72-e120e4ad0d09",
   "metadata": {},
   "outputs": [
    {
     "name": "stdout",
     "output_type": "stream",
     "text": [
      "[1, 3, 12, 0, 0]\n",
      "----------------\n",
      "[0]\n"
     ]
    }
   ],
   "source": [
    "def movezeroes(nums):\n",
    "    left = right = 0\n",
    "    \n",
    "    while right < len(nums):\n",
    "        if nums[right] != 0:\n",
    "            nums[left] = nums[right]\n",
    "            left += 1\n",
    "        right += 1\n",
    "\n",
    "    while left < len(nums):\n",
    "        nums[left] = 0\n",
    "        left += 1 \n",
    "\n",
    "num1 = [0, 1, 0, 3, 12]\n",
    "movezeroes(num1)\n",
    "print(num1)\n",
    "print(\"----------------\")\n",
    "\n",
    "num2 = [0]\n",
    "movezeroes(num2)\n",
    "print(num2)\n"
   ]
  },
  {
   "cell_type": "code",
   "execution_count": null,
   "id": "3dea556f-9913-4963-8ebb-16f2c0bd1f2f",
   "metadata": {},
   "outputs": [],
   "source": []
  }
 ],
 "metadata": {
  "kernelspec": {
   "display_name": "Python 3 (ipykernel)",
   "language": "python",
   "name": "python3"
  },
  "language_info": {
   "codemirror_mode": {
    "name": "ipython",
    "version": 3
   },
   "file_extension": ".py",
   "mimetype": "text/x-python",
   "name": "python",
   "nbconvert_exporter": "python",
   "pygments_lexer": "ipython3",
   "version": "3.10.6"
  }
 },
 "nbformat": 4,
 "nbformat_minor": 5
}
