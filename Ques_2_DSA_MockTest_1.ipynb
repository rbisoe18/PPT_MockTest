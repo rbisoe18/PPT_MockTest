{
 "cells": [
  {
   "cell_type": "markdown",
   "id": "9d8355aa-e187-47d5-b9e5-342b30d2beec",
   "metadata": {},
   "source": [
    "#### Q.2."
   ]
  },
  {
   "cell_type": "code",
   "execution_count": 4,
   "id": "97e51256-535e-4309-86b8-033aa832c9e5",
   "metadata": {},
   "outputs": [
    {
     "name": "stdout",
     "output_type": "stream",
     "text": [
      "0\n",
      "------\n",
      "2\n",
      "------\n",
      "-1\n"
     ]
    }
   ],
   "source": [
    "def Nonrep(s):\n",
    "    char_count = {}\n",
    "\n",
    "    for char in s:\n",
    "        if char in char_count:\n",
    "            char_count[char] += 1\n",
    "        else:\n",
    "            char_count[char] = 1\n",
    "\n",
    "    for i in range(len(s)):\n",
    "        if char_count[s[i]] == 1:\n",
    "            return i\n",
    "        \n",
    "    return -1\n",
    "\n",
    "s1 = \"leetcode\"\n",
    "print(Nonrep(s1))\n",
    "print(\"------\")\n",
    "\n",
    "s2 = \"loveleetcode\"\n",
    "print(Nonrep(s2))\n",
    "print(\"------\")\n",
    "\n",
    "s3 = \"aabb\"\n",
    "print(Nonrep(s3))\n"
   ]
  },
  {
   "cell_type": "code",
   "execution_count": null,
   "id": "26782efd-91db-4d32-ad5d-f4aaf509694b",
   "metadata": {},
   "outputs": [],
   "source": []
  }
 ],
 "metadata": {
  "kernelspec": {
   "display_name": "Python 3 (ipykernel)",
   "language": "python",
   "name": "python3"
  },
  "language_info": {
   "codemirror_mode": {
    "name": "ipython",
    "version": 3
   },
   "file_extension": ".py",
   "mimetype": "text/x-python",
   "name": "python",
   "nbconvert_exporter": "python",
   "pygments_lexer": "ipython3",
   "version": "3.10.6"
  }
 },
 "nbformat": 4,
 "nbformat_minor": 5
}
